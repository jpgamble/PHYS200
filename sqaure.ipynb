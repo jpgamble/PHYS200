{
 "metadata": {
  "name": "sqaure"
 },
 "nbformat": 3,
 "worksheets": [
  {
   "cells": [
    {
     "cell_type": "code",
     "collapsed": true,
     "input": [
      "",
      "from TurtleWorld import *",
      "world = TurtleWorld()",
      "bob = Turtle ()",
      "print bob",
      "",
      "def square(t, length):",
      "\tfor i in range (4):",
      "\t\tfd (t,length)",
      "\t\tlt(t)",
      "",
      "square (bob, 100)",
      "\t "
     ],
     "language": "python",
     "outputs": []
    }
   ]
  }
 ]
}