{
 "metadata": {
  "name": "Chapter1"
 },
 "nbformat": 3,
 "worksheets": [
  {
   "cells": [
    {
     "cell_type": "code",
     "collapsed": false,
     "input": [
      "print(\"Hello\",\"World!\")"
     ],
     "language": "python",
     "outputs": [
      {
       "output_type": "stream",
       "stream": "stdout",
       "text": [
        "('Hello', 'World!')"
       ]
      }
     ],
     "prompt_number": 1
    },
    {
     "cell_type": "code",
     "collapsed": false,
     "input": [
      "print Hello World"
     ],
     "language": "python",
     "outputs": [
      {
       "ename": "SyntaxError",
       "evalue": "invalid syntax (<ipython-input-2-9d30e232d227>, line 1)",
       "output_type": "pyerr",
       "traceback": [
        "\u001b[1;36m  File \u001b[1;32m\"<ipython-input-2-9d30e232d227>\"\u001b[1;36m, line \u001b[1;32m1\u001b[0m\n\u001b[1;33m    print Hello World\u001b[0m\n\u001b[1;37m                    ^\u001b[0m\n\u001b[1;31mSyntaxError\u001b[0m\u001b[1;31m:\u001b[0m invalid syntax\n"
       ]
      }
     ],
     "prompt_number": 2
    },
    {
     "cell_type": "code",
     "collapsed": false,
     "input": [
      "print (Hello World)"
     ],
     "language": "python",
     "outputs": [
      {
       "ename": "SyntaxError",
       "evalue": "invalid syntax (<ipython-input-3-ef3109e2478f>, line 1)",
       "output_type": "pyerr",
       "traceback": [
        "\u001b[1;36m  File \u001b[1;32m\"<ipython-input-3-ef3109e2478f>\"\u001b[1;36m, line \u001b[1;32m1\u001b[0m\n\u001b[1;33m    print (Hello World)\u001b[0m\n\u001b[1;37m                     ^\u001b[0m\n\u001b[1;31mSyntaxError\u001b[0m\u001b[1;31m:\u001b[0m invalid syntax\n"
       ]
      }
     ],
     "prompt_number": 3
    },
    {
     "cell_type": "code",
     "collapsed": false,
     "input": [
      "print \"Hello World\""
     ],
     "language": "python",
     "outputs": [
      {
       "output_type": "stream",
       "stream": "stdout",
       "text": [
        "Hello World"
       ]
      }
     ],
     "prompt_number": 4
    },
    {
     "cell_type": "code",
     "collapsed": false,
     "input": [
      "help print"
     ],
     "language": "python",
     "outputs": [
      {
       "ename": "SyntaxError",
       "evalue": "invalid syntax (<ipython-input-5-37e3b791bd52>, line 1)",
       "output_type": "pyerr",
       "traceback": [
        "\u001b[1;36m  File \u001b[1;32m\"<ipython-input-5-37e3b791bd52>\"\u001b[1;36m, line \u001b[1;32m1\u001b[0m\n\u001b[1;33m    help print\u001b[0m\n\u001b[1;37m             ^\u001b[0m\n\u001b[1;31mSyntaxError\u001b[0m\u001b[1;31m:\u001b[0m invalid syntax\n"
       ]
      }
     ],
     "prompt_number": 5
    },
    {
     "cell_type": "code",
     "collapsed": false,
     "input": [
      "help ('print')"
     ],
     "language": "python",
     "outputs": [
      {
       "output_type": "stream",
       "stream": "stdout",
       "text": [
        "The ``print`` statement",
        "***********************",
        "",
        "   print_stmt ::= \"print\" ([expression (\",\" expression)* [\",\"]]",
        "                  | \">>\" expression [(\",\" expression)+ [\",\"]])",
        "",
        "``print`` evaluates each expression in turn and writes the resulting",
        "object to standard output (see below).  If an object is not a string,",
        "it is first converted to a string using the rules for string",
        "conversions.  The (resulting or original) string is then written.  A",
        "space is written before each object is (converted and) written, unless",
        "the output system believes it is positioned at the beginning of a",
        "line.  This is the case (1) when no characters have yet been written",
        "to standard output, (2) when the last character written to standard",
        "output is a whitespace character except ``' '``, or (3) when the last",
        "write operation on standard output was not a ``print`` statement. (In",
        "some cases it may be functional to write an empty string to standard",
        "output for this reason.)",
        "",
        "Note: Objects which act like file objects but which are not the built-in",
        "  file objects often do not properly emulate this aspect of the file",
        "  object's behavior, so it is best not to rely on this.",
        "",
        "A ``'\\n'`` character is written at the end, unless the ``print``",
        "statement ends with a comma.  This is the only action if the statement",
        "contains just the keyword ``print``.",
        "",
        "Standard output is defined as the file object named ``stdout`` in the",
        "built-in module ``sys``.  If no such object exists, or if it does not",
        "have a ``write()`` method, a ``RuntimeError`` exception is raised.",
        "",
        "``print`` also has an extended form, defined by the second portion of",
        "the syntax described above. This form is sometimes referred to as",
        "\"``print`` chevron.\" In this form, the first expression after the",
        "``>>`` must evaluate to a \"file-like\" object, specifically an object",
        "that has a ``write()`` method as described above.  With this extended",
        "form, the subsequent expressions are printed to this file object.  If",
        "the first expression evaluates to ``None``, then ``sys.stdout`` is",
        "used as the file for output.",
        ""
       ]
      }
     ],
     "prompt_number": 6
    },
    {
     "cell_type": "code",
     "collapsed": false,
     "input": [
      "10/1.61"
     ],
     "language": "python",
     "outputs": [
      {
       "output_type": "pyout",
       "prompt_number": 7,
       "text": [
        "6.211180124223602"
       ]
      }
     ],
     "prompt_number": 7
    },
    {
     "cell_type": "code",
     "collapsed": false,
     "input": [
      "(10*60)/(1.61*43.5)"
     ],
     "language": "python",
     "outputs": [
      {
       "output_type": "pyout",
       "prompt_number": 8,
       "text": [
        "8.567144998929106"
       ]
      }
     ],
     "prompt_number": 8
    },
    {
     "cell_type": "code",
     "collapsed": true,
     "input": [],
     "language": "python",
     "outputs": []
    }
   ]
  }
 ]
}