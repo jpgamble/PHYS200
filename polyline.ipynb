{
 "metadata": {
  "name": "polyline"
 },
 "nbformat": 3,
 "worksheets": [
  {
   "cells": [
    {
     "cell_type": "code",
     "collapsed": true,
     "input": [
      "from TurtleWorld import *",
      "world = TurtleWorld()",
      "bob = Turtle ()",
      "print bob",
      "import math",
      "def polyline(t, n, length, angle):",
      "\tfor i in rang (n):",
      "\t\tfd (t, length)",
      "\t\tlt (t, length)",
      "def polygon(t, n, length):",
      "\tangle = 360.0/n",
      "\tpolyline(t, n, length, angle)",
      "def arc (t, r, angle):",
      "\tarc_length=2*math.pi*r*length/360",
      "\tn = int(arc_length/3)+1",
      "\tstep_length = arc_length/n",
      "\tstep_angle=float(angle)/n",
      "\tpolyline(t,n, step_length, step_angle)",
      "def circle (t,r):",
      "\tarc (t, r, 360)",
      "circle (bob,50)"
     ],
     "language": "python",
     "outputs": []
    }
   ]
  }
 ]
}