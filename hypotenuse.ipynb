{
 "metadata": {
  "name": "hypotenuse"
 },
 "nbformat": 3,
 "worksheets": [
  {
   "cells": [
    {
     "cell_type": "code",
     "collapsed": true,
     "input": [
      "import math",
      "",
      "def hypotenuse_is(a,b):",
      "\tasquared=a**2",
      "\tbsquared=b**2",
      "\tcsquared=(asquared+bsquared)",
      "\tc=math.sqrt(csquared)",
      "\tprint 'hypotenuse is', c",
      "\treturn c",
      "hypotenuse_is(3,4)"
     ],
     "language": "python",
     "outputs": []
    }
   ]
  }
 ]
}