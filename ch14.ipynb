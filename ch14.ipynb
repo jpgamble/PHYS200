{
 "metadata": {
  "name": "ch14"
 },
 "nbformat": 3,
 "worksheets": [
  {
   "cells": [
    {
     "cell_type": "code",
     "collapsed": true,
     "input": [],
     "language": "python",
     "outputs": []
    }
   ]
  }
 ]
}