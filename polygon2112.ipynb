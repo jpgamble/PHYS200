{
 "metadata": {
  "name": "polygon2112"
 },
 "nbformat": 3,
 "worksheets": [
  {
   "cells": [
    {
     "cell_type": "code",
     "collapsed": true,
     "input": [
      "",
      "",
      "from TurtleWorld import *",
      "world = TurtleWorld()",
      "bob = Turtle ()",
      "print bob",
      "",
      "def polygon(t, n, length):",
      "\tangle = 360.0/n",
      "\tfor i in range (n):",
      "\t\tfd (t,length)",
      "\t\tlt(t,angle)",
      "",
      "polygon (bob,7,70)",
      "\t "
     ],
     "language": "python",
     "outputs": []
    }
   ]
  }
 ]
}