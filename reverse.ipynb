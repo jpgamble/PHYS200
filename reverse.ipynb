{
 "metadata": {
  "name": "reverse"
 },
 "nbformat": 3,
 "worksheets": [
  {
   "cells": [
    {
     "cell_type": "code",
     "collapsed": true,
     "input": [
      "def reverse_lookup(d,v):",
      "\tfor k in d:",
      "\t\tif d[k]==v:",
      "\t\t\treturn k",
      "\traise ValueError",
      "reverse_lookup(moo, t)"
     ],
     "language": "python",
     "outputs": []
    }
   ]
  }
 ]
}