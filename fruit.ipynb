{
 "metadata": {
  "name": "fruit"
 },
 "nbformat": 3,
 "worksheets": [
  {
   "cells": [
    {
     "cell_type": "code",
     "collapsed": true,
     "input": [
      "fruit = raw_input('')",
      "def backwards():",
      "\tfruit=raw_input('')",
      "\tdef countdown(cat):",
      "\t\tcat=len(fruit)",
      "\tif len(fruit)<=0:",
      "\t\tprint 'Done!'",
      "\telse:",
      "\t\tkitty=fruit[len(fruit)]",
      "\t\tprint kitty",
      "\t\tcountdown (cat-1)",
      "backwards()"
     ],
     "language": "python",
     "outputs": []
    }
   ]
  }
 ]
}