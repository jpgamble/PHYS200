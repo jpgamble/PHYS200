{
 "metadata": {
  "name": "ch10"
 },
 "nbformat": 3,
 "worksheets": [
  {
   "cells": [
    {
     "cell_type": "code",
     "collapsed": false,
     "input": [
      "x=[]",
      "def summing(x):",
      "    total = 0",
      "    for i in x:",
      "        total += x",
      "    return total",
      "    ",
      "def index_sum(t,x):",
      "    summing(x) + summing(t) = tot",
      "    print tot",
      "t=[1,2,3] x=[1,3,6]",
      "index_sum(t,x)"
     ],
     "language": "python",
     "outputs": [],
     "prompt_number": "*"
    },
    {
     "cell_type": "code",
     "collapsed": true,
     "input": [],
     "language": "python",
     "outputs": []
    }
   ]
  }
 ]
}