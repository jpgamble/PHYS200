{
 "metadata": {
  "name": "histogram"
 },
 "nbformat": 3,
 "worksheets": [
  {
   "cells": [
    {
     "cell_type": "code",
     "collapsed": true,
     "input": [
      "def histogram(s):",
      "\td=dict()",
      "\tfor c in s:",
      "\t\tif c not in d:",
      "\t\t\td[c] = 1",
      "\t\telse:",
      "\t\t\td[c]+=1",
      "\treturn d",
      "",
      "def reverse_lookup(d,v):",
      "\tfor k in d:",
      "\t\tif d[k]==v:",
      "\t\t\treturn k",
      "\traise ValueError",
      "h= histogram(raw_input(''))",
      "k= reverse_lookup(h, 2)"
     ],
     "language": "python",
     "outputs": []
    }
   ]
  }
 ]
}