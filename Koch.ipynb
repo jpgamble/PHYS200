{
 "metadata": {
  "name": "Koch"
 },
 "nbformat": 3,
 "worksheets": [
  {
   "cells": [
    {
     "cell_type": "code",
     "collapsed": true,
     "input": [
      "from TurtleWorld import *",
      "",
      "world = TurtleWorld()",
      "bob = Turtle()",
      "bob.delay = 0",
      "",
      "bob.x = -150",
      "bob.y = 90",
      "bob.redraw()",
      "",
      "def koch(t, n):",
      "    if n<3:",
      "        fd(t, n)",
      "        return",
      "    m = n/3.0",
      "    koch(t, m)",
      "    lt(t, 60)",
      "    koch(t, m)",
      "    rt(t, 120)",
      "    koch(t, m)",
      "    lt(t, 60)",
      "    koch(t, m)",
      "",
      "def snowflake(t, n):",
      "    for i in range(3):",
      "        koch(t, n)",
      "        rt(t, 120)",
      "",
      "snowflake(bob, 300)",
      "die(bob)",
      "",
      "world.canvas.dump()",
      "world.mainloop()"
     ],
     "language": "python",
     "outputs": []
    }
   ]
  }
 ]
}