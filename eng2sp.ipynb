{
 "metadata": {
  "name": "eng2sp"
 },
 "nbformat": 3,
 "worksheets": [
  {
   "cells": [
    {
     "cell_type": "code",
     "collapsed": true,
     "input": [
      "eng2sp=dict()",
      "print eng2sp",
      "{}",
      "eng2sp['one']='uno'",
      "print eng2sp",
      "",
      "eng2sp={'one': 'uno', 'three':'tres', 'two':'dos'}",
      "print eng2sp"
     ],
     "language": "python",
     "outputs": []
    }
   ]
  }
 ]
}