{
 "metadata": {
  "name": "ch15"
 },
 "nbformat": 3,
 "worksheets": [
  {
   "cells": [
    {
     "cell_type": "code",
     "collapsed": false,
     "input": [
      "import math",
      "",
      "",
      "def distance(c,d):",
      "    c=(x1,y1)",
      "    d=(x2,y2)",
      "    a = (x2-x1)",
      "    b=(y2-y1)",
      "    asquared=a**2",
      "\tbsquared=b**2",
      "\tksquared=(asquared+bsquared)",
      "\tk=math.sqrt(csquared)",
      "\tprint 'Distance is', k",
      "    return k"
     ],
     "language": "python",
     "outputs": [
      {
       "ename": "IndentationError",
       "evalue": "unexpected indent (<ipython-input-6-cf61ff54e863>, line 10)",
       "output_type": "pyerr",
       "traceback": [
        "\u001b[1;31mIndentationError\u001b[0m\u001b[1;31m:\u001b[0m unexpected indent\n"
       ]
      }
     ],
     "prompt_number": 6
    },
    {
     "cell_type": "code",
     "collapsed": false,
     "input": [
      "",
      "    "
     ],
     "language": "python",
     "outputs": [],
     "prompt_number": 11
    },
    {
     "cell_type": "code",
     "collapsed": false,
     "input": [
      "def move_rectangle(dx, dy):",
      "   class Rectangle(object):",
      "        \"\"\"represent a rectangle.",
      "            attributes: width, height, corner.\"\"\"",
      "        box = Rectangle()",
      "        box.width = 100.0",
      "        box.height = 200.0",
      "        box.corner = Point()",
      "        box.corner.x = 0.0",
      "        box.corner.y = 0.0",
      "        box.corner.x = box.corner.x + dx",
      "        box.corner.y = box.corner.y + dy",
      "        "
     ],
     "language": "python",
     "outputs": [],
     "prompt_number": 11
    },
    {
     "cell_type": "code",
     "collapsed": true,
     "input": [
      "def move_rectangle2(dx, dy):",
      "   class Rectangle(object):",
      "        \"\"\"represent a rectangle.",
      "            attributes: width, height, corner.\"\"\"",
      "        box = Rectangle()",
      "        box.width = 100.0",
      "        box.height = 200.0",
      "        box.corner = Point()",
      "        box.corner.x = 0.0",
      "        box.corner.y = 0.0",
      "        ",
      "        box2=Rectangle()",
      "        box2.width=box.width",
      "        box2.height=box.height",
      "        box2.corner=Point()",
      "        box.corner.x2 = box.corner.x + dx",
      "        box.corner.y2 = box.corner.y + dy"
     ],
     "language": "python",
     "outputs": [],
     "prompt_number": 12
    },
    {
     "cell_type": "code",
     "collapsed": true,
     "input": [],
     "language": "python",
     "outputs": []
    }
   ]
  }
 ]
}