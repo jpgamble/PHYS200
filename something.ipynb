{
 "metadata": {
  "name": "something"
 },
 "nbformat": 3,
 "worksheets": [
  {
   "cells": [
    {
     "cell_type": "code",
     "collapsed": true,
     "input": [
      "from TurtleWorld import *",
      "world = TurtleWorld()",
      "bob = Turtle ()",
      "print bob",
      "",
      "def draw(t, length, n):",
      "\tif n == 0:",
      "\t\treturn",
      "\tangle = 50",
      "\tfd(t, length*n)",
      "\tlt(t, angle)",
      "\tdraw(t, length, n-1)",
      "\trt(t, 2*angle)",
      "\tdraw(t, length, n-1)",
      "\tlt(t, angle)",
      "\tbk(t, length*n)",
      "draw(bob, 50, 10)"
     ],
     "language": "python",
     "outputs": []
    }
   ]
  }
 ]
}