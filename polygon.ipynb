{
 "metadata": {
  "name": "polygon"
 },
 "nbformat": 3,
 "worksheets": [
  {
   "cells": [
    {
     "cell_type": "code",
     "collapsed": true,
     "input": [
      "for i in range(4):",
      "\tprint 'Hello!'",
      "\tfd (bob, 100)",
      "\tlt (bob)"
     ],
     "language": "python",
     "outputs": []
    }
   ]
  }
 ]
}