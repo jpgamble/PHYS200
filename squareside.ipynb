{
 "metadata": {
  "name": "squareside"
 },
 "nbformat": 3,
 "worksheets": [
  {
   "cells": [
    {
     "cell_type": "code",
     "collapsed": true,
     "input": [
      "",
      "from TurtleWorld import *",
      "world = TurtleWorld()",
      "bob = Turtle ()",
      "print bob",
      "",
      "def square(t, length,n):",
      "\tfor i in range (n):",
      "\t\tfd (t,length)",
      "\t\tlt(t,360/n)",
      "",
      "square (bob, 100,4)",
      "\t "
     ],
     "language": "python",
     "outputs": []
    }
   ]
  }
 ]
}