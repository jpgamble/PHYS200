{
 "metadata": {
  "name": "eval_loop"
 },
 "nbformat": 3,
 "worksheets": [
  {
   "cells": [
    {
     "cell_type": "code",
     "collapsed": true,
     "input": [
      "def eval_loop(line):",
      "\tline=raw_input('')",
      "\tif line== 'meh':",
      "\t\t\tprint line",
      "\telse: ",
      "\t\tprint 'Put in number'"
     ],
     "language": "python",
     "outputs": []
    }
   ]
  }
 ]
}