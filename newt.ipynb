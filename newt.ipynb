{
 "metadata": {
  "name": "newt"
 },
 "nbformat": 3,
 "worksheets": [
  {
   "cells": [
    {
     "cell_type": "code",
     "collapsed": true,
     "input": [
      "prefixes = 'J', 'K','L','M','N','O','P', 'Qu'",
      "suffix = 'ack'",
      "for letter in prefixes:",
      "\tprint letter + suffix",
      "\t"
     ],
     "language": "python",
     "outputs": []
    }
   ]
  }
 ]
}