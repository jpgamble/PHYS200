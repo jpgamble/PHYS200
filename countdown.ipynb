{
 "metadata": {
  "name": "countdown"
 },
 "nbformat": 3,
 "worksheets": [
  {
   "cells": [
    {
     "cell_type": "code",
     "collapsed": true,
     "input": [
      "def countdown(n):",
      "\tif n<=0:",
      "\t\tprint 'Blastoff!'",
      "\telse:",
      "\t\tprint n",
      "\t\tcountdown (n-1)",
      "countdown(3)",
      "",
      "def print_n (s,n):",
      "\tif n <= 0:",
      "\t\treturn",
      "\tprint s",
      "\tprint_n (s, n-1)",
      "print_n(3,2)",
      "",
      "def check_fermat(a,b,c,n):",
      "\tif (a^n)+(b^n)==(c^n):",
      "\t\tprint 'Yay it worked\\n'",
      "\telse: ",
      "\t\tprint 'Holey Smokes Fermat was wrong\\n'",
      "",
      "check_fermat(1,1,2,2)"
     ],
     "language": "python",
     "outputs": []
    }
   ]
  }
 ]
}