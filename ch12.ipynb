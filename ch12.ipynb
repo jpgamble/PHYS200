{
 "metadata": {
  "name": "ch12"
 },
 "nbformat": 3,
 "worksheets": [
  {
   "cells": [
    {
     "cell_type": "code",
     "collapsed": false,
     "input": [
      "def sum_all(n):",
      "    for i in range(len(n)):",
      "        k=0",
      "        i +=k",
      "        print sum(n[k])",
      "sum_all(n)"
     ],
     "language": "python",
     "outputs": [
      {
       "output_type": "stream",
       "stream": "stdout",
       "text": [
        "1",
        "1",
        "1"
       ]
      }
     ],
     "prompt_number": 15
    },
    {
     "cell_type": "code",
     "collapsed": false,
     "input": [
      "def sort_by_length(words):",
      "    t = []",
      "    for word in words:",
      "        t.append((len(word), word))",
      "        ",
      "    t.sort(reverse=True)",
      "",
      "    res = []",
      "    for length, word in t:",
      "        res.append(word)",
      "    return res",
      "    ",
      "    for i in range(len(t)):",
      "        for n in range(len(t)):",
      "            if int(len(t[i])) is int(len(t[n])):",
      "                print random(t[p])",
      "            ",
      "t=['cow', 'cat', 'dogg', 'kitty', 'matt']",
      "sort_by_length(t)"
     ],
     "language": "python",
     "outputs": [
      {
       "output_type": "pyout",
       "prompt_number": 39,
       "text": [
        "['kitty', 'matt', 'dogg', 'cow', 'cat']"
       ]
      }
     ],
     "prompt_number": 39
    },
    {
     "cell_type": "code",
     "collapsed": false,
     "input": [],
     "language": "python",
     "outputs": [
      {
       "ename": "SyntaxError",
       "evalue": "invalid syntax (<ipython-input-23-614dd0e977be>, line 1)",
       "output_type": "pyerr",
       "traceback": [
        "\u001b[1;36m  File \u001b[1;32m\"<ipython-input-23-614dd0e977be>\"\u001b[1;36m, line \u001b[1;32m1\u001b[0m\n\u001b[1;33m    def\u001b[0m\n\u001b[1;37m       ^\u001b[0m\n\u001b[1;31mSyntaxError\u001b[0m\u001b[1;31m:\u001b[0m invalid syntax\n"
       ]
      }
     ],
     "prompt_number": 23
    },
    {
     "cell_type": "code",
     "collapsed": true,
     "input": [],
     "language": "python",
     "outputs": []
    }
   ]
  }
 ]
}