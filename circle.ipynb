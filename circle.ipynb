{
 "metadata": {
  "name": "circle"
 },
 "nbformat": 3,
 "worksheets": [
  {
   "cells": [
    {
     "cell_type": "code",
     "collapsed": true,
     "input": [
      "",
      "from TurtleWorld import *",
      "world = TurtleWorld()",
      "bob = Turtle ()",
      "print bob",
      "import math",
      "",
      "def circle(t, r):",
      "\tcircumference = 2* math.pi *r",
      "\tn= int(circumference/3)+1",
      "\tlength = circumference/n",
      "\tpolygon (t,n,length)",
      "",
      "def polygon(t, n, length):",
      "\tangle = 360.0/n",
      "\tfor i in range (n):",
      "\t\tfd (t,length)",
      "\t\tlt(t,angle)",
      "\t\t",
      "circle (bob, 50)",
      "\t "
     ],
     "language": "python",
     "outputs": []
    }
   ]
  }
 ]
}