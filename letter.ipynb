{
 "metadata": {
  "name": "letter"
 },
 "nbformat": 3,
 "worksheets": [
  {
   "cells": [
    {
     "cell_type": "code",
     "collapsed": true,
     "input": [
      "fruit=raw_input('')",
      "length= len(fruit)",
      "last=fruit[length-1]",
      "",
      "index = -1",
      "while index < len(fruit):",
      "\tletter = fruit[index]",
      "\tprint letter",
      "\tindex = index - 1",
      "\t"
     ],
     "language": "python",
     "outputs": []
    }
   ]
  }
 ]
}