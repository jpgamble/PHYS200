{
 "metadata": {
  "name": "arc"
 },
 "nbformat": 3,
 "worksheets": [
  {
   "cells": [
    {
     "cell_type": "code",
     "collapsed": true,
     "input": [
      "import math ",
      "from TurtleWorld import *",
      "world = TurtleWorld()",
      "bob = Turtle ()",
      "print bob",
      "",
      "def arc (t, r, angle):",
      "\tarc_length= 2*math.pi* r * angle/360",
      "\tn= int(arc_length/3)+1",
      "\tstep_length= arc_length/n",
      "\tstep_angle=float(angle)/n",
      "\t",
      "\tfor i in range(n):",
      "\t\tfd (t, step_length)",
      "\t\tlt (t, step_angle)",
      "arc(bob, 50, 180)"
     ],
     "language": "python",
     "outputs": []
    }
   ]
  }
 ]
}